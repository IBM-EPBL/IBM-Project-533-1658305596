{
 "cells": [
  {
   "cell_type": "code",
   "execution_count": 1,
   "metadata": {},
   "outputs": [
    {
     "name": "stdout",
     "output_type": "stream",
     "text": [
      "Collecting ibm_watson_machine_learningNote: you may need to restart the kernel to use updated packages.\n"
     ]
    },
    {
     "name": "stderr",
     "output_type": "stream",
     "text": [
      "\n",
      "[notice] A new release of pip available: 22.2.2 -> 22.3.1\n",
      "[notice] To update, run: python.exe -m pip install --upgrade pip\n"
     ]
    },
    {
     "name": "stdout",
     "output_type": "stream",
     "text": [
      "\n",
      "  Downloading ibm_watson_machine_learning-1.0.257-py3-none-any.whl (1.8 MB)\n",
      "     ---------------------------------------- 1.8/1.8 MB 179.2 kB/s eta 0:00:00\n",
      "Requirement already satisfied: packaging in c:\\users\\hp\\appdata\\local\\programs\\python\\python310\\lib\\site-packages (from ibm_watson_machine_learning) (21.3)\n",
      "Collecting lomond\n",
      "  Downloading lomond-0.3.3-py2.py3-none-any.whl (35 kB)\n",
      "Requirement already satisfied: pandas<1.5.0,>=0.24.2 in c:\\users\\hp\\appdata\\local\\programs\\python\\python310\\lib\\site-packages (from ibm_watson_machine_learning) (1.4.3)\n",
      "Requirement already satisfied: requests in c:\\users\\hp\\appdata\\local\\programs\\python\\python310\\lib\\site-packages (from ibm_watson_machine_learning) (2.28.1)\n",
      "Collecting importlib-metadata\n",
      "  Downloading importlib_metadata-5.0.0-py3-none-any.whl (21 kB)\n",
      "Requirement already satisfied: urllib3 in c:\\users\\hp\\appdata\\local\\programs\\python\\python310\\lib\\site-packages (from ibm_watson_machine_learning) (1.26.10)\n",
      "Requirement already satisfied: certifi in c:\\users\\hp\\appdata\\local\\programs\\python\\python310\\lib\\site-packages (from ibm_watson_machine_learning) (2022.6.15)\n",
      "Collecting ibm-cos-sdk==2.12.*\n",
      "  Downloading ibm-cos-sdk-2.12.0.tar.gz (55 kB)\n",
      "     ---------------------------------------- 55.6/55.6 kB 3.0 MB/s eta 0:00:00\n",
      "  Preparing metadata (setup.py): started\n",
      "  Preparing metadata (setup.py): finished with status 'done'\n",
      "Collecting tabulate\n",
      "  Downloading tabulate-0.9.0-py3-none-any.whl (35 kB)\n",
      "Collecting ibm-cos-sdk-core==2.12.0\n",
      "  Downloading ibm-cos-sdk-core-2.12.0.tar.gz (956 kB)\n",
      "     -------------------------------------- 956.8/956.8 kB 1.3 MB/s eta 0:00:00\n",
      "  Preparing metadata (setup.py): started\n",
      "  Preparing metadata (setup.py): finished with status 'done'\n",
      "Collecting ibm-cos-sdk-s3transfer==2.12.0\n",
      "  Downloading ibm-cos-sdk-s3transfer-2.12.0.tar.gz (135 kB)\n",
      "     -------------------------------------- 135.7/135.7 kB 2.0 MB/s eta 0:00:00\n",
      "  Preparing metadata (setup.py): started\n",
      "  Preparing metadata (setup.py): finished with status 'done'\n",
      "Collecting jmespath<1.0.0,>=0.10.0\n",
      "  Downloading jmespath-0.10.0-py2.py3-none-any.whl (24 kB)\n",
      "Requirement already satisfied: python-dateutil<3.0.0,>=2.8.2 in c:\\users\\hp\\appdata\\local\\programs\\python\\python310\\lib\\site-packages (from ibm-cos-sdk-core==2.12.0->ibm-cos-sdk==2.12.*->ibm_watson_machine_learning) (2.8.2)\n",
      "Requirement already satisfied: pytz>=2020.1 in c:\\users\\hp\\appdata\\local\\programs\\python\\python310\\lib\\site-packages (from pandas<1.5.0,>=0.24.2->ibm_watson_machine_learning) (2022.1)\n",
      "Requirement already satisfied: numpy>=1.21.0 in c:\\users\\hp\\appdata\\local\\programs\\python\\python310\\lib\\site-packages (from pandas<1.5.0,>=0.24.2->ibm_watson_machine_learning) (1.23.1)\n",
      "Requirement already satisfied: charset-normalizer<3,>=2 in c:\\users\\hp\\appdata\\local\\programs\\python\\python310\\lib\\site-packages (from requests->ibm_watson_machine_learning) (2.1.0)\n",
      "Requirement already satisfied: idna<4,>=2.5 in c:\\users\\hp\\appdata\\local\\programs\\python\\python310\\lib\\site-packages (from requests->ibm_watson_machine_learning) (3.3)\n",
      "Collecting zipp>=0.5\n",
      "  Downloading zipp-3.10.0-py3-none-any.whl (6.2 kB)\n",
      "Requirement already satisfied: six>=1.10.0 in c:\\users\\hp\\appdata\\local\\programs\\python\\python310\\lib\\site-packages (from lomond->ibm_watson_machine_learning) (1.16.0)\n",
      "Requirement already satisfied: pyparsing!=3.0.5,>=2.0.2 in c:\\users\\hp\\appdata\\local\\programs\\python\\python310\\lib\\site-packages (from packaging->ibm_watson_machine_learning) (3.0.9)\n",
      "Building wheels for collected packages: ibm-cos-sdk, ibm-cos-sdk-core, ibm-cos-sdk-s3transfer\n",
      "  Building wheel for ibm-cos-sdk (setup.py): started\n",
      "  Building wheel for ibm-cos-sdk (setup.py): finished with status 'done'\n",
      "  Created wheel for ibm-cos-sdk: filename=ibm_cos_sdk-2.12.0-py3-none-any.whl size=73930 sha256=13c53bb5fca3f45e8e7b7f8fcfa0d81a0d16a8f333baeb5f9ebd87beda3c29a8\n",
      "  Stored in directory: c:\\users\\hp\\appdata\\local\\pip\\cache\\wheels\\de\\cf\\fb\\8c86f4e3a662cd34ea63c37835a1ff53896c3231011e3f2db1\n",
      "  Building wheel for ibm-cos-sdk-core (setup.py): started\n",
      "  Building wheel for ibm-cos-sdk-core (setup.py): finished with status 'done'\n",
      "  Created wheel for ibm-cos-sdk-core: filename=ibm_cos_sdk_core-2.12.0-py3-none-any.whl size=562962 sha256=9bf30ff78fbe7fab1998d8d9f690c6cb43d712c8fd5c7b680c813bb27ae3624c\n",
      "  Stored in directory: c:\\users\\hp\\appdata\\local\\pip\\cache\\wheels\\dc\\24\\3d\\8387c624d61a8465622f1ed4ca6cff5f27fbc93c508dfb9b00\n",
      "  Building wheel for ibm-cos-sdk-s3transfer (setup.py): started\n",
      "  Building wheel for ibm-cos-sdk-s3transfer (setup.py): finished with status 'done'\n",
      "  Created wheel for ibm-cos-sdk-s3transfer: filename=ibm_cos_sdk_s3transfer-2.12.0-py3-none-any.whl size=89778 sha256=b3620e3057c64acc12c7f7fdcfdde3d2311472fc000e2717873d159572f18714\n",
      "  Stored in directory: c:\\users\\hp\\appdata\\local\\pip\\cache\\wheels\\a0\\40\\08\\833fc119b606353772e9b925bd2f3fb9be600171ec2a287ce2\n",
      "Successfully built ibm-cos-sdk ibm-cos-sdk-core ibm-cos-sdk-s3transfer\n",
      "Installing collected packages: zipp, tabulate, lomond, jmespath, importlib-metadata, ibm-cos-sdk-core, ibm-cos-sdk-s3transfer, ibm-cos-sdk, ibm_watson_machine_learning\n",
      "Successfully installed ibm-cos-sdk-2.12.0 ibm-cos-sdk-core-2.12.0 ibm-cos-sdk-s3transfer-2.12.0 ibm_watson_machine_learning-1.0.257 importlib-metadata-5.0.0 jmespath-0.10.0 lomond-0.3.3 tabulate-0.9.0 zipp-3.10.0\n"
     ]
    }
   ],
   "source": [
    "pip install ibm_watson_machine_learning"
   ]
  },
  {
   "cell_type": "code",
   "execution_count": 1,
   "metadata": {},
   "outputs": [],
   "source": [
    "from ibm_watson_machine_learning import APIClient\n",
    "wml_credentials={\n",
    "    \"url\":\"https://us-south.ml.cloud.ibm.com\",\n",
    "    \"apikey\":\"<api>\"\n",
    "}\n",
    "\n",
    "client=APIClient(wml_credentials)"
   ]
  },
  {
   "cell_type": "code",
   "execution_count": 2,
   "metadata": {},
   "outputs": [],
   "source": [
    "client = APIClient(wml_credentials)"
   ]
  },
  {
   "cell_type": "code",
   "execution_count": 3,
   "metadata": {},
   "outputs": [],
   "source": [
    "def guid_space_name(client,Gesture):\n",
    "    space=client.spaces.get_details()\n",
    "    return(next(item for item in space['resources'] if item['entity']['name']==Gesture)['metadata']['id'])"
   ]
  },
  {
   "cell_type": "code",
   "execution_count": 4,
   "metadata": {},
   "outputs": [
    {
     "name": "stdout",
     "output_type": "stream",
     "text": [
      "Space UID c6cb5ca4-eff9-4c2e-8d79-f3ae6b9d2411\n"
     ]
    }
   ],
   "source": [
    "space_uid=guid_space_name(client,'Gesture Based Tool for Sterile Browsing of Radiology Images')\n",
    "print(\"Space UID \"+space_uid)"
   ]
  },
  {
   "cell_type": "code",
   "execution_count": 6,
   "metadata": {},
   "outputs": [
    {
     "data": {
      "text/plain": [
       "'SUCCESS'"
      ]
     },
     "execution_count": 6,
     "metadata": {},
     "output_type": "execute_result"
    }
   ],
   "source": [
    "client.set.default_space(space_uid)"
   ]
  },
  {
   "cell_type": "code",
   "execution_count": 7,
   "metadata": {},
   "outputs": [
    {
     "name": "stdout",
     "output_type": "stream",
     "text": [
      "Successfully saved model content to file: 'Hand_gesture.tar.gz'\n"
     ]
    },
    {
     "data": {
      "text/plain": [
       "'d:\\\\Academics\\\\IBM/Hand_gesture.tar.gz'"
      ]
     },
     "execution_count": 7,
     "metadata": {},
     "output_type": "execute_result"
    }
   ],
   "source": [
    "client.repository.download(\"c100ed85-4a1c-4478-9ac3-f3a4204e464b\",\"Hand_gesture.tar.gz\")"
   ]
  },
  {
   "cell_type": "code",
   "execution_count": null,
   "metadata": {},
   "outputs": [],
   "source": []
  }
 ],
 "metadata": {
  "kernelspec": {
   "display_name": "Python 3.10.5 64-bit",
   "language": "python",
   "name": "python3"
  },
  "language_info": {
   "codemirror_mode": {
    "name": "ipython",
    "version": 3
   },
   "file_extension": ".py",
   "mimetype": "text/x-python",
   "name": "python",
   "nbconvert_exporter": "python",
   "pygments_lexer": "ipython3",
   "version": "3.10.5"
  },
  "orig_nbformat": 4,
  "vscode": {
   "interpreter": {
    "hash": "a9cff5a362bc38ef45d817ae74b1af54d6a076e3d773891282bce078b815ba34"
   }
  }
 },
 "nbformat": 4,
 "nbformat_minor": 2
}
